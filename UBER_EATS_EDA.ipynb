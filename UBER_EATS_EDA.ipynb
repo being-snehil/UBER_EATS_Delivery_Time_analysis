{
  "nbformat": 4,
  "nbformat_minor": 0,
  "metadata": {
    "colab": {
      "provenance": []
    },
    "kernelspec": {
      "name": "python3",
      "display_name": "Python 3"
    },
    "language_info": {
      "name": "python"
    }
  },
  "cells": [
    {
      "cell_type": "code",
      "execution_count": 27,
      "metadata": {
        "collapsed": true,
        "id": "UKd25nhKIod7"
      },
      "outputs": [],
      "source": [
        "import numpy as np\n",
        "import pandas as pd\n",
        "import seaborn as sns\n",
        "import matplotlib.pyplot as plt"
      ]
    },
    {
      "cell_type": "code",
      "source": [
        "!unzip Uber_dataset.zip"
      ],
      "metadata": {
        "colab": {
          "base_uri": "https://localhost:8080/"
        },
        "id": "FDq-zps0MCVo",
        "outputId": "a86778b5-028f-4f92-a566-5ee4d545fe18"
      },
      "execution_count": 29,
      "outputs": [
        {
          "output_type": "stream",
          "name": "stdout",
          "text": [
            "Archive:  Uber_dataset.zip\n",
            "replace uber_travel_data.csv? [y]es, [n]o, [A]ll, [N]one, [r]ename: y\n",
            "  inflating: uber_travel_data.csv    y\n",
            "\n",
            "replace __MACOSX/._uber_travel_data.csv? [y]es, [n]o, [A]ll, [N]one, [r]ename:   inflating: __MACOSX/._uber_travel_data.csv  \n"
          ]
        }
      ]
    },
    {
      "cell_type": "code",
      "source": [
        "!ls -lrt"
      ],
      "metadata": {
        "colab": {
          "base_uri": "https://localhost:8080/"
        },
        "id": "r0InApYqMWdA",
        "outputId": "6dd39870-7b79-4a46-94ca-309c896b4524"
      },
      "execution_count": 30,
      "outputs": [
        {
          "output_type": "stream",
          "name": "stdout",
          "text": [
            "total 525784\n",
            "-rw-r--r-- 1 root root 520141836 May 12  2022 uber_travel_data.csv\n",
            "drwxr-xr-x 1 root root      4096 Jul 29 13:22 sample_data\n",
            "-rw-r--r-- 1 root root  18251707 Jul 31 14:50 Uber_dataset.zip\n",
            "drwxr-xr-x 2 root root      4096 Jul 31 14:51 __MACOSX\n"
          ]
        }
      ]
    },
    {
      "source": [
        "import os\n",
        "cwd = os.getcwd()\n",
        "print(cwd)"
      ],
      "cell_type": "code",
      "metadata": {
        "colab": {
          "base_uri": "https://localhost:8080/"
        },
        "id": "DOzWZaDnNvdX",
        "outputId": "f68d03d9-3282-446e-f79b-b0f65a40fd20"
      },
      "execution_count": 31,
      "outputs": [
        {
          "output_type": "stream",
          "name": "stdout",
          "text": [
            "/content\n"
          ]
        }
      ]
    },
    {
      "cell_type": "code",
      "source": [
        "df = pd.read_csv('uber_travel_data.csv')"
      ],
      "metadata": {
        "id": "yDa7It0aNz7w"
      },
      "execution_count": 32,
      "outputs": []
    },
    {
      "cell_type": "code",
      "source": [
        "df.shape"
      ],
      "metadata": {
        "colab": {
          "base_uri": "https://localhost:8080/"
        },
        "id": "JmuxU7izN_Jq",
        "outputId": "d5deb5db-4b33-4a35-d3c0-1db2655bf446"
      },
      "execution_count": 33,
      "outputs": [
        {
          "output_type": "execute_result",
          "data": {
            "text/plain": [
              "(4542026, 5)"
            ]
          },
          "metadata": {},
          "execution_count": 33
        }
      ]
    },
    {
      "cell_type": "code",
      "source": [
        "df.head(10)"
      ],
      "metadata": {
        "colab": {
          "base_uri": "https://localhost:8080/",
          "height": 362
        },
        "id": "X1t-GDTTOII0",
        "outputId": "6a8e338a-6ecd-4ad3-9e26-3eaa2b3b46ed"
      },
      "execution_count": 34,
      "outputs": [
        {
          "output_type": "execute_result",
          "data": {
            "text/plain": [
              "   sourceid                                             source  dstid  \\\n",
              "0         1  300 Ring Road, Block CB, Naraina Village, Nara...      1   \n",
              "1         1  300 Ring Road, Block CB, Naraina Village, Nara...      1   \n",
              "2         1  300 Ring Road, Block CB, Naraina Village, Nara...      1   \n",
              "3         1  300 Ring Road, Block CB, Naraina Village, Nara...      1   \n",
              "4         1  300 Ring Road, Block CB, Naraina Village, Nara...      1   \n",
              "5         1  300 Ring Road, Block CB, Naraina Village, Nara...      1   \n",
              "6         1  300 Ring Road, Block CB, Naraina Village, Nara...      1   \n",
              "7         1  300 Ring Road, Block CB, Naraina Village, Nara...      1   \n",
              "8         1  300 Ring Road, Block CB, Naraina Village, Nara...      1   \n",
              "9         1  300 Ring Road, Block CB, Naraina Village, Nara...      1   \n",
              "\n",
              "                                         destination  travel_time  \n",
              "0  300 Ring Road, Block CB, Naraina Village, Nara...          283  \n",
              "1  300 Ring Road, Block CB, Naraina Village, Nara...          266  \n",
              "2  300 Ring Road, Block CB, Naraina Village, Nara...          238  \n",
              "3  300 Ring Road, Block CB, Naraina Village, Nara...          269  \n",
              "4  300 Ring Road, Block CB, Naraina Village, Nara...          259  \n",
              "5  300 Ring Road, Block CB, Naraina Village, Nara...          284  \n",
              "6  300 Ring Road, Block CB, Naraina Village, Nara...          300  \n",
              "7  300 Ring Road, Block CB, Naraina Village, Nara...          223  \n",
              "8  300 Ring Road, Block CB, Naraina Village, Nara...          254  \n",
              "9  300 Ring Road, Block CB, Naraina Village, Nara...          252  "
            ],
            "text/html": [
              "\n",
              "  <div id=\"df-ab447899-b8e9-4729-96c4-1710316b0015\" class=\"colab-df-container\">\n",
              "    <div>\n",
              "<style scoped>\n",
              "    .dataframe tbody tr th:only-of-type {\n",
              "        vertical-align: middle;\n",
              "    }\n",
              "\n",
              "    .dataframe tbody tr th {\n",
              "        vertical-align: top;\n",
              "    }\n",
              "\n",
              "    .dataframe thead th {\n",
              "        text-align: right;\n",
              "    }\n",
              "</style>\n",
              "<table border=\"1\" class=\"dataframe\">\n",
              "  <thead>\n",
              "    <tr style=\"text-align: right;\">\n",
              "      <th></th>\n",
              "      <th>sourceid</th>\n",
              "      <th>source</th>\n",
              "      <th>dstid</th>\n",
              "      <th>destination</th>\n",
              "      <th>travel_time</th>\n",
              "    </tr>\n",
              "  </thead>\n",
              "  <tbody>\n",
              "    <tr>\n",
              "      <th>0</th>\n",
              "      <td>1</td>\n",
              "      <td>300 Ring Road, Block CB, Naraina Village, Nara...</td>\n",
              "      <td>1</td>\n",
              "      <td>300 Ring Road, Block CB, Naraina Village, Nara...</td>\n",
              "      <td>283</td>\n",
              "    </tr>\n",
              "    <tr>\n",
              "      <th>1</th>\n",
              "      <td>1</td>\n",
              "      <td>300 Ring Road, Block CB, Naraina Village, Nara...</td>\n",
              "      <td>1</td>\n",
              "      <td>300 Ring Road, Block CB, Naraina Village, Nara...</td>\n",
              "      <td>266</td>\n",
              "    </tr>\n",
              "    <tr>\n",
              "      <th>2</th>\n",
              "      <td>1</td>\n",
              "      <td>300 Ring Road, Block CB, Naraina Village, Nara...</td>\n",
              "      <td>1</td>\n",
              "      <td>300 Ring Road, Block CB, Naraina Village, Nara...</td>\n",
              "      <td>238</td>\n",
              "    </tr>\n",
              "    <tr>\n",
              "      <th>3</th>\n",
              "      <td>1</td>\n",
              "      <td>300 Ring Road, Block CB, Naraina Village, Nara...</td>\n",
              "      <td>1</td>\n",
              "      <td>300 Ring Road, Block CB, Naraina Village, Nara...</td>\n",
              "      <td>269</td>\n",
              "    </tr>\n",
              "    <tr>\n",
              "      <th>4</th>\n",
              "      <td>1</td>\n",
              "      <td>300 Ring Road, Block CB, Naraina Village, Nara...</td>\n",
              "      <td>1</td>\n",
              "      <td>300 Ring Road, Block CB, Naraina Village, Nara...</td>\n",
              "      <td>259</td>\n",
              "    </tr>\n",
              "    <tr>\n",
              "      <th>5</th>\n",
              "      <td>1</td>\n",
              "      <td>300 Ring Road, Block CB, Naraina Village, Nara...</td>\n",
              "      <td>1</td>\n",
              "      <td>300 Ring Road, Block CB, Naraina Village, Nara...</td>\n",
              "      <td>284</td>\n",
              "    </tr>\n",
              "    <tr>\n",
              "      <th>6</th>\n",
              "      <td>1</td>\n",
              "      <td>300 Ring Road, Block CB, Naraina Village, Nara...</td>\n",
              "      <td>1</td>\n",
              "      <td>300 Ring Road, Block CB, Naraina Village, Nara...</td>\n",
              "      <td>300</td>\n",
              "    </tr>\n",
              "    <tr>\n",
              "      <th>7</th>\n",
              "      <td>1</td>\n",
              "      <td>300 Ring Road, Block CB, Naraina Village, Nara...</td>\n",
              "      <td>1</td>\n",
              "      <td>300 Ring Road, Block CB, Naraina Village, Nara...</td>\n",
              "      <td>223</td>\n",
              "    </tr>\n",
              "    <tr>\n",
              "      <th>8</th>\n",
              "      <td>1</td>\n",
              "      <td>300 Ring Road, Block CB, Naraina Village, Nara...</td>\n",
              "      <td>1</td>\n",
              "      <td>300 Ring Road, Block CB, Naraina Village, Nara...</td>\n",
              "      <td>254</td>\n",
              "    </tr>\n",
              "    <tr>\n",
              "      <th>9</th>\n",
              "      <td>1</td>\n",
              "      <td>300 Ring Road, Block CB, Naraina Village, Nara...</td>\n",
              "      <td>1</td>\n",
              "      <td>300 Ring Road, Block CB, Naraina Village, Nara...</td>\n",
              "      <td>252</td>\n",
              "    </tr>\n",
              "  </tbody>\n",
              "</table>\n",
              "</div>\n",
              "    <div class=\"colab-df-buttons\">\n",
              "\n",
              "  <div class=\"colab-df-container\">\n",
              "    <button class=\"colab-df-convert\" onclick=\"convertToInteractive('df-ab447899-b8e9-4729-96c4-1710316b0015')\"\n",
              "            title=\"Convert this dataframe to an interactive table.\"\n",
              "            style=\"display:none;\">\n",
              "\n",
              "  <svg xmlns=\"http://www.w3.org/2000/svg\" height=\"24px\" viewBox=\"0 -960 960 960\">\n",
              "    <path d=\"M120-120v-720h720v720H120Zm60-500h600v-160H180v160Zm220 220h160v-160H400v160Zm0 220h160v-160H400v160ZM180-400h160v-160H180v160Zm440 0h160v-160H620v160ZM180-180h160v-160H180v160Zm440 0h160v-160H620v160Z\"/>\n",
              "  </svg>\n",
              "    </button>\n",
              "\n",
              "  <style>\n",
              "    .colab-df-container {\n",
              "      display:flex;\n",
              "      gap: 12px;\n",
              "    }\n",
              "\n",
              "    .colab-df-convert {\n",
              "      background-color: #E8F0FE;\n",
              "      border: none;\n",
              "      border-radius: 50%;\n",
              "      cursor: pointer;\n",
              "      display: none;\n",
              "      fill: #1967D2;\n",
              "      height: 32px;\n",
              "      padding: 0 0 0 0;\n",
              "      width: 32px;\n",
              "    }\n",
              "\n",
              "    .colab-df-convert:hover {\n",
              "      background-color: #E2EBFA;\n",
              "      box-shadow: 0px 1px 2px rgba(60, 64, 67, 0.3), 0px 1px 3px 1px rgba(60, 64, 67, 0.15);\n",
              "      fill: #174EA6;\n",
              "    }\n",
              "\n",
              "    .colab-df-buttons div {\n",
              "      margin-bottom: 4px;\n",
              "    }\n",
              "\n",
              "    [theme=dark] .colab-df-convert {\n",
              "      background-color: #3B4455;\n",
              "      fill: #D2E3FC;\n",
              "    }\n",
              "\n",
              "    [theme=dark] .colab-df-convert:hover {\n",
              "      background-color: #434B5C;\n",
              "      box-shadow: 0px 1px 3px 1px rgba(0, 0, 0, 0.15);\n",
              "      filter: drop-shadow(0px 1px 2px rgba(0, 0, 0, 0.3));\n",
              "      fill: #FFFFFF;\n",
              "    }\n",
              "  </style>\n",
              "\n",
              "    <script>\n",
              "      const buttonEl =\n",
              "        document.querySelector('#df-ab447899-b8e9-4729-96c4-1710316b0015 button.colab-df-convert');\n",
              "      buttonEl.style.display =\n",
              "        google.colab.kernel.accessAllowed ? 'block' : 'none';\n",
              "\n",
              "      async function convertToInteractive(key) {\n",
              "        const element = document.querySelector('#df-ab447899-b8e9-4729-96c4-1710316b0015');\n",
              "        const dataTable =\n",
              "          await google.colab.kernel.invokeFunction('convertToInteractive',\n",
              "                                                    [key], {});\n",
              "        if (!dataTable) return;\n",
              "\n",
              "        const docLinkHtml = 'Like what you see? Visit the ' +\n",
              "          '<a target=\"_blank\" href=https://colab.research.google.com/notebooks/data_table.ipynb>data table notebook</a>'\n",
              "          + ' to learn more about interactive tables.';\n",
              "        element.innerHTML = '';\n",
              "        dataTable['output_type'] = 'display_data';\n",
              "        await google.colab.output.renderOutput(dataTable, element);\n",
              "        const docLink = document.createElement('div');\n",
              "        docLink.innerHTML = docLinkHtml;\n",
              "        element.appendChild(docLink);\n",
              "      }\n",
              "    </script>\n",
              "  </div>\n",
              "\n",
              "\n",
              "<div id=\"df-f237bedd-9239-4591-8681-1e994c4cf81f\">\n",
              "  <button class=\"colab-df-quickchart\" onclick=\"quickchart('df-f237bedd-9239-4591-8681-1e994c4cf81f')\"\n",
              "            title=\"Suggest charts\"\n",
              "            style=\"display:none;\">\n",
              "\n",
              "<svg xmlns=\"http://www.w3.org/2000/svg\" height=\"24px\"viewBox=\"0 0 24 24\"\n",
              "     width=\"24px\">\n",
              "    <g>\n",
              "        <path d=\"M19 3H5c-1.1 0-2 .9-2 2v14c0 1.1.9 2 2 2h14c1.1 0 2-.9 2-2V5c0-1.1-.9-2-2-2zM9 17H7v-7h2v7zm4 0h-2V7h2v10zm4 0h-2v-4h2v4z\"/>\n",
              "    </g>\n",
              "</svg>\n",
              "  </button>\n",
              "\n",
              "<style>\n",
              "  .colab-df-quickchart {\n",
              "      --bg-color: #E8F0FE;\n",
              "      --fill-color: #1967D2;\n",
              "      --hover-bg-color: #E2EBFA;\n",
              "      --hover-fill-color: #174EA6;\n",
              "      --disabled-fill-color: #AAA;\n",
              "      --disabled-bg-color: #DDD;\n",
              "  }\n",
              "\n",
              "  [theme=dark] .colab-df-quickchart {\n",
              "      --bg-color: #3B4455;\n",
              "      --fill-color: #D2E3FC;\n",
              "      --hover-bg-color: #434B5C;\n",
              "      --hover-fill-color: #FFFFFF;\n",
              "      --disabled-bg-color: #3B4455;\n",
              "      --disabled-fill-color: #666;\n",
              "  }\n",
              "\n",
              "  .colab-df-quickchart {\n",
              "    background-color: var(--bg-color);\n",
              "    border: none;\n",
              "    border-radius: 50%;\n",
              "    cursor: pointer;\n",
              "    display: none;\n",
              "    fill: var(--fill-color);\n",
              "    height: 32px;\n",
              "    padding: 0;\n",
              "    width: 32px;\n",
              "  }\n",
              "\n",
              "  .colab-df-quickchart:hover {\n",
              "    background-color: var(--hover-bg-color);\n",
              "    box-shadow: 0 1px 2px rgba(60, 64, 67, 0.3), 0 1px 3px 1px rgba(60, 64, 67, 0.15);\n",
              "    fill: var(--button-hover-fill-color);\n",
              "  }\n",
              "\n",
              "  .colab-df-quickchart-complete:disabled,\n",
              "  .colab-df-quickchart-complete:disabled:hover {\n",
              "    background-color: var(--disabled-bg-color);\n",
              "    fill: var(--disabled-fill-color);\n",
              "    box-shadow: none;\n",
              "  }\n",
              "\n",
              "  .colab-df-spinner {\n",
              "    border: 2px solid var(--fill-color);\n",
              "    border-color: transparent;\n",
              "    border-bottom-color: var(--fill-color);\n",
              "    animation:\n",
              "      spin 1s steps(1) infinite;\n",
              "  }\n",
              "\n",
              "  @keyframes spin {\n",
              "    0% {\n",
              "      border-color: transparent;\n",
              "      border-bottom-color: var(--fill-color);\n",
              "      border-left-color: var(--fill-color);\n",
              "    }\n",
              "    20% {\n",
              "      border-color: transparent;\n",
              "      border-left-color: var(--fill-color);\n",
              "      border-top-color: var(--fill-color);\n",
              "    }\n",
              "    30% {\n",
              "      border-color: transparent;\n",
              "      border-left-color: var(--fill-color);\n",
              "      border-top-color: var(--fill-color);\n",
              "      border-right-color: var(--fill-color);\n",
              "    }\n",
              "    40% {\n",
              "      border-color: transparent;\n",
              "      border-right-color: var(--fill-color);\n",
              "      border-top-color: var(--fill-color);\n",
              "    }\n",
              "    60% {\n",
              "      border-color: transparent;\n",
              "      border-right-color: var(--fill-color);\n",
              "    }\n",
              "    80% {\n",
              "      border-color: transparent;\n",
              "      border-right-color: var(--fill-color);\n",
              "      border-bottom-color: var(--fill-color);\n",
              "    }\n",
              "    90% {\n",
              "      border-color: transparent;\n",
              "      border-bottom-color: var(--fill-color);\n",
              "    }\n",
              "  }\n",
              "</style>\n",
              "\n",
              "  <script>\n",
              "    async function quickchart(key) {\n",
              "      const quickchartButtonEl =\n",
              "        document.querySelector('#' + key + ' button');\n",
              "      quickchartButtonEl.disabled = true;  // To prevent multiple clicks.\n",
              "      quickchartButtonEl.classList.add('colab-df-spinner');\n",
              "      try {\n",
              "        const charts = await google.colab.kernel.invokeFunction(\n",
              "            'suggestCharts', [key], {});\n",
              "      } catch (error) {\n",
              "        console.error('Error during call to suggestCharts:', error);\n",
              "      }\n",
              "      quickchartButtonEl.classList.remove('colab-df-spinner');\n",
              "      quickchartButtonEl.classList.add('colab-df-quickchart-complete');\n",
              "    }\n",
              "    (() => {\n",
              "      let quickchartButtonEl =\n",
              "        document.querySelector('#df-f237bedd-9239-4591-8681-1e994c4cf81f button');\n",
              "      quickchartButtonEl.style.display =\n",
              "        google.colab.kernel.accessAllowed ? 'block' : 'none';\n",
              "    })();\n",
              "  </script>\n",
              "</div>\n",
              "\n",
              "    </div>\n",
              "  </div>\n"
            ],
            "application/vnd.google.colaboratory.intrinsic+json": {
              "type": "dataframe",
              "variable_name": "df"
            }
          },
          "metadata": {},
          "execution_count": 34
        }
      ]
    },
    {
      "cell_type": "code",
      "source": [
        "df[\"travel_time\"].hist(bins = 100 )"
      ],
      "metadata": {
        "colab": {
          "base_uri": "https://localhost:8080/",
          "height": 448
        },
        "id": "0dZz3qXrOgQ4",
        "outputId": "a0830511-7d6f-4874-aa47-ca1a037065f2"
      },
      "execution_count": 35,
      "outputs": [
        {
          "output_type": "execute_result",
          "data": {
            "text/plain": [
              "<Axes: >"
            ]
          },
          "metadata": {},
          "execution_count": 35
        },
        {
          "output_type": "display_data",
          "data": {
            "text/plain": [
              "<Figure size 640x480 with 1 Axes>"
            ],
            "image/png": "[encoded data removed]"
          },
          "metadata": {}
        }
      ]
    },
    {
      "cell_type": "markdown",
      "source": [
        "The above distribution is not a gaussian distribution"
      ],
      "metadata": {
        "id": "1aTTrHnzOsvx"
      }
    },
    {
      "cell_type": "code",
      "source": [
        "df.columns"
      ],
      "metadata": {
        "colab": {
          "base_uri": "https://localhost:8080/"
        },
        "id": "aTs9VqtNPXX-",
        "outputId": "111222c9-688e-4095-dd5a-88f93171f9bf"
      },
      "execution_count": 36,
      "outputs": [
        {
          "output_type": "execute_result",
          "data": {
            "text/plain": [
              "Index(['sourceid', 'source', 'dstid', 'destination', 'travel_time'], dtype='object')"
            ]
          },
          "metadata": {},
          "execution_count": 36
        }
      ]
    },
    {
      "cell_type": "code",
      "source": [
        "df.value_counts([\"sourceid\" , \"dstid\"]).sort_values()"
      ],
      "metadata": {
        "id": "ZJZdNmT6O47z"
      },
      "execution_count": null,
      "outputs": []
    },
    {
      "cell_type": "code",
      "source": [
        "data1 = df[(df['sourceid'] == 1) & (df['dstid'] == 5)]['travel_time']\n",
        "data1.hist(bins = 30)"
      ],
      "metadata": {
        "colab": {
          "base_uri": "https://localhost:8080/",
          "height": 448
        },
        "id": "czeDRMc3SOOn",
        "outputId": "c15a2605-9816-49e2-e954-432860dcbafa"
      },
      "execution_count": 53,
      "outputs": [
        {
          "output_type": "execute_result",
          "data": {
            "text/plain": [
              "<Axes: >"
            ]
          },
          "metadata": {},
          "execution_count": 53
        },
        {
          "output_type": "display_data",
          "data": {
            "text/plain": [
              "<Figure size 640x480 with 1 Axes>"
            ],
            "image/png": "[encoded data removed]"
          },
          "metadata": {}
        }
      ]
    },
    {
      "cell_type": "code",
      "source": [
        "data1.shape"
      ],
      "metadata": {
        "colab": {
          "base_uri": "https://localhost:8080/"
        },
        "id": "FwkAMSpRThi_",
        "outputId": "c3747647-b194-49e7-cac1-04c89b89cb58"
      },
      "execution_count": 54,
      "outputs": [
        {
          "output_type": "execute_result",
          "data": {
            "text/plain": [
              "(75,)"
            ]
          },
          "metadata": {},
          "execution_count": 54
        }
      ]
    },
    {
      "cell_type": "markdown",
      "source": [
        "**Only 75 rows are there that means we don't have enough samples so here we use Bootstrap Sampling(Sampling with repetations to generate more datapoint) **"
      ],
      "metadata": {
        "id": "53rg_2DBTlkh"
      }
    },
    {
      "cell_type": "markdown",
      "source": [
        "# CLT for C.I on mean Time Taken for delivery (Average)"
      ],
      "metadata": {
        "id": "mbRPXjAsXy-G"
      }
    },
    {
      "cell_type": "code",
      "source": [
        "#lets create r = 1000 bootstrap samples , and each bootstrap sample is of size lets say 50\n",
        "#bs_means is a list that contains 1000 bootstrap sample means\n",
        "bs_means = []\n",
        "data1 = df[(df['sourceid'] == 1) & (df['dstid'] == 5)]['travel_time']\n",
        "size = 50\n",
        "for r in range(1000):\n",
        "  bs_sample = data1.sample(size , replace = True) # sampling with replacement\n",
        "  bs_mean = bs_sample.mean()\n",
        "  bs_means.append(bs_mean)"
      ],
      "metadata": {
        "id": "NK8nVP1eX_Zf"
      },
      "execution_count": 55,
      "outputs": []
    },
    {
      "cell_type": "code",
      "source": [
        "plt.figure()\n",
        "plt.hist(bs_means , bins = 50)\n",
        "plt.grid()\n",
        "plt.show()"
      ],
      "metadata": {
        "colab": {
          "base_uri": "https://localhost:8080/",
          "height": 430
        },
        "id": "RjLm2sTcXsH5",
        "outputId": "74f68d52-32b6-4136-ea27-ec9adbfc9a23"
      },
      "execution_count": 62,
      "outputs": [
        {
          "output_type": "display_data",
          "data": {
            "text/plain": [
              "<Figure size 640x480 with 1 Axes>"
            ],
            "image/png": "[encoded data removed]"
          },
          "metadata": {}
        }
      ]
    },
    {
      "cell_type": "code",
      "source": [
        "#Taking out population mean from the sample means as mean of the sample mean is the population mean"
      ],
      "metadata": {
        "id": "Q9DnmlLXZEPw"
      },
      "execution_count": 60,
      "outputs": []
    },
    {
      "cell_type": "code",
      "source": [
        "print(np.mean(bs_means))\n",
        "print(np.std(bs_means)) #this is basically the standard error"
      ],
      "metadata": {
        "colab": {
          "base_uri": "https://localhost:8080/"
        },
        "id": "DzmXNUaUZxPV",
        "outputId": "72ea5c74-ed3c-4754-e34f-82991200dfc7"
      },
      "execution_count": 64,
      "outputs": [
        {
          "output_type": "stream",
          "name": "stdout",
          "text": [
            "1122.84616\n",
            "3.5261020482113117\n"
          ]
        }
      ]
    },
    {
      "cell_type": "markdown",
      "source": [
        "**Above we found out the mean of the population using CLT, now Finding Confidence interval below  **"
      ],
      "metadata": {
        "id": "WZJJ6XU8aXUV"
      }
    },
    {
      "cell_type": "code",
      "source": [
        "#Finding 95% Confidence Interval using [Mean - 2(std) , Mean + 2(std)]\n",
        "print(np.mean(bs_means) - 2*(np.std(bs_means)))\n",
        "print(np.mean(bs_means) + 2*(np.std(bs_means)))"
      ],
      "metadata": {
        "colab": {
          "base_uri": "https://localhost:8080/"
        },
        "id": "gkrTJUOobK1J",
        "outputId": "1ee2cddc-7393-4989-a0f9-7726e2ac2eef"
      },
      "execution_count": 69,
      "outputs": [
        {
          "output_type": "stream",
          "name": "stdout",
          "text": [
            "1115.7939559035774\n",
            "1129.8983640964227\n"
          ]
        }
      ]
    },
    {
      "cell_type": "code",
      "source": [
        "#Now Finding Confidence Interval using np.percentile\n",
        "print(np.percentile(bs_means , [2.5 , 97.5]).round(2))\n"
      ],
      "metadata": {
        "colab": {
          "base_uri": "https://localhost:8080/"
        },
        "id": "AYlfBIF9aTVu",
        "outputId": "28555128-38dd-49bd-8ee5-b15dea5ac039"
      },
      "execution_count": 70,
      "outputs": [
        {
          "output_type": "stream",
          "name": "stdout",
          "text": [
            "[1115.74 1129.88]\n"
          ]
        }
      ]
    },
    {
      "cell_type": "markdown",
      "source": [
        "**Here we can see that both the results are almost same, hence we can use both the methods for finding the Confidence Interval but 1st method is for finding Confidence interval for mean only**\n",
        "\n",
        "--- 2nd method is a more generalized method for finding confidence interval for any statiscals findings\n",
        "\n",
        "--- what if r is 100 rather than 1000 ? the standard error would be high, mean would approximately be same as earlier\n",
        "\n",
        "\n",
        "\n",
        "\n",
        "\n",
        "\n",
        "\n",
        "\n"
      ],
      "metadata": {
        "id": "lnuHn-F7bx3H"
      }
    },
    {
      "cell_type": "markdown",
      "source": [
        "# 99% C.I on the 99th percentile value for travel time via bootstrapping"
      ],
      "metadata": {
        "id": "BwYdeJnDcqN2"
      }
    },
    {
      "cell_type": "code",
      "source": [
        "#what if we want C.I pon the 99th percentile ?\n",
        "#Lets create a bootstrap sample of Size 10000 i.e r=10000 , and lets say the side of each sample is 75\n",
        "#bs_99p is a list of \"r\" bootstrap sample's of 99th percentile\n",
        "r = 10000\n",
        "size = 75\n",
        "bs_99p = []\n",
        "for i in range(r):\n",
        "  bs_sample = data1.sample(size , replace = True)\n",
        "  bs_99p.append(np.percentile(bs_sample , 99)) # here we are calculating 99th percentile from each sample NOT the mean hence CLT is not valid here"
      ],
      "metadata": {
        "id": "ypxnQQNZbxYE"
      },
      "execution_count": 71,
      "outputs": []
    },
    {
      "cell_type": "code",
      "source": [
        "len(bs_99p)"
      ],
      "metadata": {
        "colab": {
          "base_uri": "https://localhost:8080/"
        },
        "id": "GpXTducFgJAa",
        "outputId": "e0118cea-df0b-417f-eca1-af50ff787551"
      },
      "execution_count": 72,
      "outputs": [
        {
          "output_type": "execute_result",
          "data": {
            "text/plain": [
              "10000"
            ]
          },
          "metadata": {},
          "execution_count": 72
        }
      ]
    },
    {
      "cell_type": "markdown",
      "source": [
        "--- Now Can we apply CLT on bs_99p ? NO, because here we are not calculating the sample mean here we are calculating the sample percentile, CLT is only valid for sample mean, it gives the sample mean a gaussian distribution\n",
        "\n",
        "--- bs_99p may or may not be gaussian distribution\n",
        "\n",
        "--- But still we can use bootstrap and can find 95% C.I on the 99th percentile using np.percentile\n",
        "\n",
        "\n",
        "\n",
        "\n",
        "\n"
      ],
      "metadata": {
        "id": "WH7dELlSgRrL"
      }
    },
    {
      "cell_type": "code",
      "source": [
        "print(np.percentile(bs_99p , [2.5 , 97.5]).round(2)) #basically it is the 95% C.I of the 99th percentile delivery Time from loc1 to loc5"
      ],
      "metadata": {
        "colab": {
          "base_uri": "https://localhost:8080/"
        },
        "id": "8nB3ye-PhIKw",
        "outputId": "53309117-74a9-438d-ab6d-46071402a83a"
      },
      "execution_count": 74,
      "outputs": [
        {
          "output_type": "stream",
          "name": "stdout",
          "text": [
            "[1161.42 1174.  ]\n"
          ]
        }
      ]
    },
    {
      "cell_type": "code",
      "source": [
        "#point estimate of 99th percentile of the 75 observed samples\n",
        "np.percentile(data1 , 99)"
      ],
      "metadata": {
        "colab": {
          "base_uri": "https://localhost:8080/"
        },
        "id": "rtlVRxKLgN3-",
        "outputId": "9eb6c6f9-0af4-4e39-f963-a92b978632bb"
      },
      "execution_count": 75,
      "outputs": [
        {
          "output_type": "execute_result",
          "data": {
            "text/plain": [
              "1174.0"
            ]
          },
          "metadata": {},
          "execution_count": 75
        }
      ]
    },
    {
      "cell_type": "markdown",
      "source": [
        "Above we can we that the actual 99th percentile value in my actual data(75) has 99th percentile as 1174 that means atleast 99%of the deliveries are done before 1174 seconds\n",
        "\n",
        "---what could be the benefit of this calculations ?\n",
        "Suppose UBER offers a scheme of free food if they aren't able to provide the delivery within a specified time, So what should be that specified time ? Now for that calculation we did all this stuff and we could say that the upper bound of the 99th percentile will be that specified time.\n",
        "\n"
      ],
      "metadata": {
        "id": "5N5vXsz9iSjL"
      }
    },
    {
      "cell_type": "code",
      "source": [
        "plt.hist(bs_99p , bins = 30)\n",
        "plt.show()"
      ],
      "metadata": {
        "colab": {
          "base_uri": "https://localhost:8080/",
          "height": 430
        },
        "id": "xC9Ptl9yiQcT",
        "outputId": "ee221a82-f2df-417c-d2b1-c9f44b5861b1"
      },
      "execution_count": 77,
      "outputs": [
        {
          "output_type": "display_data",
          "data": {
            "text/plain": [
              "<Figure size 640x480 with 1 Axes>"
            ],
            "image/png": "[encoded data removed]"
          },
          "metadata": {}
        }
      ]
    },
    {
      "cell_type": "markdown",
      "source": [
        "--- As above we can clearly see that bs_99p does not follow gaussian distribution\n",
        "\n",
        "--- CLT is only applicable for mean NOT for other percentiles\n",
        "\n",
        "\n",
        "\n"
      ],
      "metadata": {
        "id": "6PWEvkF8jsSz"
      }
    },
    {
      "cell_type": "code",
      "source": [],
      "metadata": {
        "id": "1EaX55dujraD"
      },
      "execution_count": null,
      "outputs": []
    }
  ]
}